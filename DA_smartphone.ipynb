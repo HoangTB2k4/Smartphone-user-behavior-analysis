{
    "metadata": {
        "kernelspec": {
            "name": "SQL",
            "display_name": "SQL",
            "language": "sql"
        },
        "language_info": {
            "name": "sql",
            "version": ""
        },
        "colab": {
            "provenance": []
        }
    },
    "nbformat_minor": 2,
    "nbformat": 4,
    "cells": [
        {
            "cell_type": "markdown",
            "source": [
                "# <span style=\"color: var(--vscode-foreground);\"><b>1. Tổng quan dữ liệu</b></span>"
            ],
            "metadata": {
                "azdata_cell_guid": "c64ac39a-6cec-4930-bd5c-1bf317384421",
                "id": "pTcWZbzlBPpG"
            }
        },
        {
            "cell_type": "code",
            "source": [
                "SELECT TOP 10 *\n",
                "FROM user_behavior_dataset"
            ],
            "metadata": {
                "azdata_cell_guid": "73a8452f-fd25-450b-8efc-b35a4e675269",
                "language": "sql",
                "id": "mZJTWm9VBPpH",
                "outputId": "a9e59006-7cf0-4b48-bb4d-e79431ea8197"
            },
            "outputs": [
                {
                    "output_type": "display_data",
                    "data": {
                        "text/html": "(10 rows affected)"
                    },
                    "metadata": {}
                },
                {
                    "output_type": "display_data",
                    "data": {
                        "text/html": "Total execution time: 00:00:00.077"
                    },
                    "metadata": {}
                },
                {
                    "output_type": "execute_result",
                    "execution_count": 1,
                    "data": {
                        "application/vnd.dataresource+json": {
                            "schema": {
                                "fields": [
                                    {
                                        "name": "User_ID"
                                    },
                                    {
                                        "name": "Device_Model"
                                    },
                                    {
                                        "name": "Operating_System"
                                    },
                                    {
                                        "name": "App_Usage_Time_min_day"
                                    },
                                    {
                                        "name": "Screen_On_Time_hours_day"
                                    },
                                    {
                                        "name": "Battery_Drain_mAh_day"
                                    },
                                    {
                                        "name": "Number_of_Apps_Installed"
                                    },
                                    {
                                        "name": "Data_Usage_MB_day"
                                    },
                                    {
                                        "name": "Age"
                                    },
                                    {
                                        "name": "Gender"
                                    },
                                    {
                                        "name": "User_Behavior_Class"
                                    }
                                ]
                            },
                            "data": [
                                {
                                    "User_ID": "1",
                                    "Device_Model": "Google Pixel 5",
                                    "Operating_System": "Android",
                                    "App_Usage_Time_min_day": "393",
                                    "Screen_On_Time_hours_day": "6.400000095367432",
                                    "Battery_Drain_mAh_day": "1872",
                                    "Number_of_Apps_Installed": "67",
                                    "Data_Usage_MB_day": "1122",
                                    "Age": "40",
                                    "Gender": "Male",
                                    "User_Behavior_Class": "4"
                                },
                                {
                                    "User_ID": "2",
                                    "Device_Model": "OnePlus 9",
                                    "Operating_System": "Android",
                                    "App_Usage_Time_min_day": "268",
                                    "Screen_On_Time_hours_day": "4.699999809265137",
                                    "Battery_Drain_mAh_day": "1331",
                                    "Number_of_Apps_Installed": "42",
                                    "Data_Usage_MB_day": "944",
                                    "Age": "47",
                                    "Gender": "Female",
                                    "User_Behavior_Class": "3"
                                },
                                {
                                    "User_ID": "3",
                                    "Device_Model": "Xiaomi Mi 11",
                                    "Operating_System": "Android",
                                    "App_Usage_Time_min_day": "154",
                                    "Screen_On_Time_hours_day": "4",
                                    "Battery_Drain_mAh_day": "761",
                                    "Number_of_Apps_Installed": "32",
                                    "Data_Usage_MB_day": "322",
                                    "Age": "42",
                                    "Gender": "Male",
                                    "User_Behavior_Class": "2"
                                },
                                {
                                    "User_ID": "4",
                                    "Device_Model": "Google Pixel 5",
                                    "Operating_System": "Android",
                                    "App_Usage_Time_min_day": "239",
                                    "Screen_On_Time_hours_day": "4.800000190734863",
                                    "Battery_Drain_mAh_day": "1676",
                                    "Number_of_Apps_Installed": "56",
                                    "Data_Usage_MB_day": "871",
                                    "Age": "20",
                                    "Gender": "Male",
                                    "User_Behavior_Class": "3"
                                },
                                {
                                    "User_ID": "5",
                                    "Device_Model": "iPhone 12",
                                    "Operating_System": "iOS",
                                    "App_Usage_Time_min_day": "187",
                                    "Screen_On_Time_hours_day": "4.300000190734863",
                                    "Battery_Drain_mAh_day": "1367",
                                    "Number_of_Apps_Installed": "58",
                                    "Data_Usage_MB_day": "988",
                                    "Age": "31",
                                    "Gender": "Female",
                                    "User_Behavior_Class": "3"
                                },
                                {
                                    "User_ID": "6",
                                    "Device_Model": "Google Pixel 5",
                                    "Operating_System": "Android",
                                    "App_Usage_Time_min_day": "99",
                                    "Screen_On_Time_hours_day": "2",
                                    "Battery_Drain_mAh_day": "940",
                                    "Number_of_Apps_Installed": "35",
                                    "Data_Usage_MB_day": "564",
                                    "Age": "31",
                                    "Gender": "Male",
                                    "User_Behavior_Class": "2"
                                },
                                {
                                    "User_ID": "7",
                                    "Device_Model": "Samsung Galaxy S21",
                                    "Operating_System": "Android",
                                    "App_Usage_Time_min_day": "350",
                                    "Screen_On_Time_hours_day": "7.300000190734863",
                                    "Battery_Drain_mAh_day": "1802",
                                    "Number_of_Apps_Installed": "66",
                                    "Data_Usage_MB_day": "1054",
                                    "Age": "21",
                                    "Gender": "Female",
                                    "User_Behavior_Class": "4"
                                },
                                {
                                    "User_ID": "8",
                                    "Device_Model": "OnePlus 9",
                                    "Operating_System": "Android",
                                    "App_Usage_Time_min_day": "543",
                                    "Screen_On_Time_hours_day": "11.399999618530273",
                                    "Battery_Drain_mAh_day": "2956",
                                    "Number_of_Apps_Installed": "82",
                                    "Data_Usage_MB_day": "1702",
                                    "Age": "31",
                                    "Gender": "Male",
                                    "User_Behavior_Class": "5"
                                },
                                {
                                    "User_ID": "9",
                                    "Device_Model": "Samsung Galaxy S21",
                                    "Operating_System": "Android",
                                    "App_Usage_Time_min_day": "340",
                                    "Screen_On_Time_hours_day": "7.699999809265137",
                                    "Battery_Drain_mAh_day": "2138",
                                    "Number_of_Apps_Installed": "75",
                                    "Data_Usage_MB_day": "1053",
                                    "Age": "42",
                                    "Gender": "Female",
                                    "User_Behavior_Class": "4"
                                },
                                {
                                    "User_ID": "10",
                                    "Device_Model": "iPhone 12",
                                    "Operating_System": "iOS",
                                    "App_Usage_Time_min_day": "424",
                                    "Screen_On_Time_hours_day": "6.599999904632568",
                                    "Battery_Drain_mAh_day": "1957",
                                    "Number_of_Apps_Installed": "75",
                                    "Data_Usage_MB_day": "1301",
                                    "Age": "42",
                                    "Gender": "Male",
                                    "User_Behavior_Class": "4"
                                }
                            ]
                        },
                        "text/html": "<table><tr><th>User_ID</th><th>Device_Model</th><th>Operating_System</th><th>App_Usage_Time_min_day</th><th>Screen_On_Time_hours_day</th><th>Battery_Drain_mAh_day</th><th>Number_of_Apps_Installed</th><th>Data_Usage_MB_day</th><th>Age</th><th>Gender</th><th>User_Behavior_Class</th></tr><tr><td>1</td><td>Google Pixel 5</td><td>Android</td><td>393</td><td>6.400000095367432</td><td>1872</td><td>67</td><td>1122</td><td>40</td><td>Male</td><td>4</td></tr><tr><td>2</td><td>OnePlus 9</td><td>Android</td><td>268</td><td>4.699999809265137</td><td>1331</td><td>42</td><td>944</td><td>47</td><td>Female</td><td>3</td></tr><tr><td>3</td><td>Xiaomi Mi 11</td><td>Android</td><td>154</td><td>4</td><td>761</td><td>32</td><td>322</td><td>42</td><td>Male</td><td>2</td></tr><tr><td>4</td><td>Google Pixel 5</td><td>Android</td><td>239</td><td>4.800000190734863</td><td>1676</td><td>56</td><td>871</td><td>20</td><td>Male</td><td>3</td></tr><tr><td>5</td><td>iPhone 12</td><td>iOS</td><td>187</td><td>4.300000190734863</td><td>1367</td><td>58</td><td>988</td><td>31</td><td>Female</td><td>3</td></tr><tr><td>6</td><td>Google Pixel 5</td><td>Android</td><td>99</td><td>2</td><td>940</td><td>35</td><td>564</td><td>31</td><td>Male</td><td>2</td></tr><tr><td>7</td><td>Samsung Galaxy S21</td><td>Android</td><td>350</td><td>7.300000190734863</td><td>1802</td><td>66</td><td>1054</td><td>21</td><td>Female</td><td>4</td></tr><tr><td>8</td><td>OnePlus 9</td><td>Android</td><td>543</td><td>11.399999618530273</td><td>2956</td><td>82</td><td>1702</td><td>31</td><td>Male</td><td>5</td></tr><tr><td>9</td><td>Samsung Galaxy S21</td><td>Android</td><td>340</td><td>7.699999809265137</td><td>2138</td><td>75</td><td>1053</td><td>42</td><td>Female</td><td>4</td></tr><tr><td>10</td><td>iPhone 12</td><td>iOS</td><td>424</td><td>6.599999904632568</td><td>1957</td><td>75</td><td>1301</td><td>42</td><td>Male</td><td>4</td></tr></table>"
                    },
                    "metadata": {}
                }
            ],
            "execution_count": 1
        },
        {
            "cell_type": "markdown",
            "source": [
                "Mô tả bộ dữ liệu: Bộ dữ liệu này gồm **700 bản ghi** (mỗi dòng đại diện cho một người dùng điện thoại di động), với **11 cột** mô tả hành vi và đặc điểm sử dụng thiết bị của họ.\n",
                "\n",
                "- **User\\_ID**: Mã định danh của người dùng\n",
                "- **Device\\_Model**: Tên thiết bị di động\n",
                "- **Operating\\_System**: Hệ điều hành\n",
                "- **App\\_Usage\\_Time\\_min\\_day**: Tổng thời gian sử dụng ứng dụng trung bình mỗi ngày (phút)\n",
                "- **Screen\\_On\\_Time\\_hours\\_day**: Thời gian bật màn hình trung bình mỗi ngày (giờ)\n",
                "- **Battery\\_Drain\\_mAh\\_day**: Lượng pin tiêu thụ trung bình mỗi ngày\n",
                "- **Number\\_of\\_Apps\\_Installed**: Số lượng ứng dụng được cài đặt\n",
                "- **Data\\_Usage\\_MB\\_day**: Lượng dữ liệu (MB) sử dụng trung bình mỗi ngày\n",
                "- **Age**: Tuổi người dùng\n",
                "- **Gender**: Giới tính\n",
                "- **User\\_Behavior\\_Class**: Phân loại nhóm hành vi người dùng"
            ],
            "metadata": {
                "language": "sql",
                "azdata_cell_guid": "6c518d31-346e-49e3-852f-27063ff8e33d",
                "id": "1nJrJ-ntBPpK"
            }
        },
        {
            "cell_type": "markdown",
            "source": [
                "## **1.1 Tổng số người dùng, thiết bị, hệ điều hành, giới tính và nhóm người dùng**"
            ],
            "metadata": {
                "language": "sql",
                "azdata_cell_guid": "c2d98a36-954c-4c39-85cf-4aa70f97c1eb",
                "id": "TnS19R6jBPpL"
            }
        },
        {
            "cell_type": "code",
            "source": [
                "SELECT\n",
                "   COUNT(*) AS total_user,\n",
                "   COUNT(DISTINCT Device_Model) AS model_count,\n",
                "   COUNT(DISTINCT Operating_System) AS os_count,\n",
                "   COUNT(DISTINCT Gender) AS gender_count,\n",
                "   COUNT(DISTINCT User_Behavior_Class) AS class_count\n",
                "FROM user_behavior_dataset"
            ],
            "metadata": {
                "language": "sql",
                "azdata_cell_guid": "4a5198b6-e143-46e6-bc79-e67e36028a9e",
                "id": "LhhOpAZ3BPpL",
                "outputId": "5ae024cd-97c4-4750-a70b-853e360d5a8b"
            },
            "outputs": [
                {
                    "output_type": "display_data",
                    "data": {
                        "text/html": "(1 row affected)"
                    },
                    "metadata": {}
                },
                {
                    "output_type": "display_data",
                    "data": {
                        "text/html": "Total execution time: 00:00:00.047"
                    },
                    "metadata": {}
                },
                {
                    "output_type": "execute_result",
                    "execution_count": 2,
                    "data": {
                        "application/vnd.dataresource+json": {
                            "schema": {
                                "fields": [
                                    {
                                        "name": "total_user"
                                    },
                                    {
                                        "name": "model_count"
                                    },
                                    {
                                        "name": "os_count"
                                    },
                                    {
                                        "name": "gender_count"
                                    },
                                    {
                                        "name": "class_count"
                                    }
                                ]
                            },
                            "data": [
                                {
                                    "total_user": "700",
                                    "model_count": "5",
                                    "os_count": "2",
                                    "gender_count": "2",
                                    "class_count": "5"
                                }
                            ]
                        },
                        "text/html": "<table><tr><th>total_user</th><th>model_count</th><th>os_count</th><th>gender_count</th><th>class_count</th></tr><tr><td>700</td><td>5</td><td>2</td><td>2</td><td>5</td></tr></table>"
                    },
                    "metadata": {}
                }
            ],
            "execution_count": 2
        },
        {
            "cell_type": "markdown",
            "source": [
                "## **1.2 Số người dùng theo hệ điều hành**"
            ],
            "metadata": {
                "language": "sql",
                "azdata_cell_guid": "751c9f52-8bfb-4696-b89e-641673f2ae71",
                "id": "sg_iUjAABPpL"
            }
        },
        {
            "cell_type": "code",
            "source": [
                "SELECT\n",
                "   Operating_System,\n",
                "   COUNT(*) AS total_user\n",
                "FROM user_behavior_dataset\n",
                "GROUP BY Operating_System\n",
                "ORDER BY total_user DESC"
            ],
            "metadata": {
                "language": "sql",
                "azdata_cell_guid": "d11b2937-1aa6-4a02-ade4-c026c572705b",
                "id": "pWGOiiwPBPpM",
                "outputId": "6e0d361a-82bc-4a55-9aab-e7b17b834f02"
            },
            "outputs": [
                {
                    "output_type": "display_data",
                    "data": {
                        "text/html": "(2 rows affected)"
                    },
                    "metadata": {}
                },
                {
                    "output_type": "display_data",
                    "data": {
                        "text/html": "Total execution time: 00:00:00.038"
                    },
                    "metadata": {}
                },
                {
                    "output_type": "execute_result",
                    "execution_count": 3,
                    "data": {
                        "application/vnd.dataresource+json": {
                            "schema": {
                                "fields": [
                                    {
                                        "name": "Operating_System"
                                    },
                                    {
                                        "name": "total_user"
                                    }
                                ]
                            },
                            "data": [
                                {
                                    "Operating_System": "Android",
                                    "total_user": "554"
                                },
                                {
                                    "Operating_System": "iOS",
                                    "total_user": "146"
                                }
                            ]
                        },
                        "text/html": "<table><tr><th>Operating_System</th><th>total_user</th></tr><tr><td>Android</td><td>554</td></tr><tr><td>iOS</td><td>146</td></tr></table>"
                    },
                    "metadata": {}
                }
            ],
            "execution_count": 3
        },
        {
            "cell_type": "markdown",
            "source": [
                "## **1.3 Số người dùng theo giới tính**"
            ],
            "metadata": {
                "language": "sql",
                "azdata_cell_guid": "336242ac-7a33-4ddc-9402-3806b4addccd",
                "id": "IP6Z6i0-BPpM"
            }
        },
        {
            "cell_type": "code",
            "source": [
                "SELECT\n",
                "   Gender,\n",
                "   COUNT(*) AS total_user\n",
                "FROM user_behavior_dataset\n",
                "GROUP BY Gender\n",
                "ORDER BY total_user DESC"
            ],
            "metadata": {
                "language": "sql",
                "azdata_cell_guid": "899d4046-aeb6-4910-b85e-a2965421776e",
                "id": "gUx_mIYmBPpN",
                "outputId": "a1fb89e2-ff8e-4919-f26b-29980902e86c"
            },
            "outputs": [
                {
                    "output_type": "display_data",
                    "data": {
                        "text/html": "(2 rows affected)"
                    },
                    "metadata": {}
                },
                {
                    "output_type": "display_data",
                    "data": {
                        "text/html": "Total execution time: 00:00:00.024"
                    },
                    "metadata": {}
                },
                {
                    "output_type": "execute_result",
                    "execution_count": 4,
                    "data": {
                        "application/vnd.dataresource+json": {
                            "schema": {
                                "fields": [
                                    {
                                        "name": "Gender"
                                    },
                                    {
                                        "name": "total_user"
                                    }
                                ]
                            },
                            "data": [
                                {
                                    "Gender": "Male",
                                    "total_user": "364"
                                },
                                {
                                    "Gender": "Female",
                                    "total_user": "336"
                                }
                            ]
                        },
                        "text/html": "<table><tr><th>Gender</th><th>total_user</th></tr><tr><td>Male</td><td>364</td></tr><tr><td>Female</td><td>336</td></tr></table>"
                    },
                    "metadata": {}
                }
            ],
            "execution_count": 4
        },
        {
            "cell_type": "markdown",
            "source": [
                "## **1.4 Thống kê trung bình thời gian sử dụng ứng dụng và màn hình theo OS**"
            ],
            "metadata": {
                "language": "sql",
                "azdata_cell_guid": "3b8bf3ae-c727-4be3-ae54-1d4c8b1c6540",
                "id": "9udotediBPpN"
            }
        },
        {
            "cell_type": "code",
            "source": [
                "SELECT Operating_System,\n",
                "       ROUND(AVG(App_Usage_Time_min_day), 2) AS avg_app_time,\n",
                "       ROUND(AVG(Screen_On_Time_hours_day), 2) AS avg_screen_time\n",
                "FROM user_behavior_dataset\n",
                "GROUP BY Operating_System"
            ],
            "metadata": {
                "language": "sql",
                "azdata_cell_guid": "18cbf933-7093-44dc-8a57-11827ebca8d4",
                "id": "8__bv6hJBPpN",
                "outputId": "d3bc2ead-9a90-4c5b-ae7b-eedb8bc78ded"
            },
            "outputs": [
                {
                    "output_type": "display_data",
                    "data": {
                        "text/html": "(2 rows affected)"
                    },
                    "metadata": {}
                },
                {
                    "output_type": "display_data",
                    "data": {
                        "text/html": "Total execution time: 00:00:00.027"
                    },
                    "metadata": {}
                },
                {
                    "output_type": "execute_result",
                    "execution_count": 5,
                    "data": {
                        "application/vnd.dataresource+json": {
                            "schema": {
                                "fields": [
                                    {
                                        "name": "Operating_System"
                                    },
                                    {
                                        "name": "avg_app_time"
                                    },
                                    {
                                        "name": "avg_screen_time"
                                    }
                                ]
                            },
                            "data": [
                                {
                                    "Operating_System": "Android",
                                    "avg_app_time": "268",
                                    "avg_screen_time": "5.23"
                                },
                                {
                                    "Operating_System": "iOS",
                                    "avg_app_time": "282",
                                    "avg_screen_time": "5.43"
                                }
                            ]
                        },
                        "text/html": "<table><tr><th>Operating_System</th><th>avg_app_time</th><th>avg_screen_time</th></tr><tr><td>Android</td><td>268</td><td>5.23</td></tr><tr><td>iOS</td><td>282</td><td>5.43</td></tr></table>"
                    },
                    "metadata": {}
                }
            ],
            "execution_count": 5
        },
        {
            "cell_type": "markdown",
            "source": [
                "## **1.5 Số người dùng theo thiết bị**"
            ],
            "metadata": {
                "language": "sql",
                "azdata_cell_guid": "0473423a-b6ce-4426-825a-6a8a1b76f6bb",
                "id": "_pCmC7QwBPpO"
            }
        },
        {
            "cell_type": "code",
            "source": [
                "SELECT TOP 10\n",
                "    Device_Model,\n",
                "    COUNT(*) AS total_user,\n",
                "    ROUND(AVG(\"App_Usage_Time_min_day\"),2) AS avg_app_time\n",
                "FROM user_behavior_dataset\n",
                "GROUP BY Device_Model\n",
                "ORDER BY total_user DESC"
            ],
            "metadata": {
                "language": "sql",
                "azdata_cell_guid": "70e72994-fb62-4de1-9557-cbf78f2c82ae",
                "id": "rT5aoJ5kBPpO",
                "outputId": "3eb4037a-7d1f-4c67-e2bc-2ddfd5694deb"
            },
            "outputs": [
                {
                    "output_type": "display_data",
                    "data": {
                        "text/html": "(5 rows affected)"
                    },
                    "metadata": {}
                },
                {
                    "output_type": "display_data",
                    "data": {
                        "text/html": "Total execution time: 00:00:00.038"
                    },
                    "metadata": {}
                },
                {
                    "output_type": "execute_result",
                    "execution_count": 6,
                    "data": {
                        "application/vnd.dataresource+json": {
                            "schema": {
                                "fields": [
                                    {
                                        "name": "Device_Model"
                                    },
                                    {
                                        "name": "total_user"
                                    },
                                    {
                                        "name": "avg_app_time"
                                    }
                                ]
                            },
                            "data": [
                                {
                                    "Device_Model": "Xiaomi Mi 11",
                                    "total_user": "146",
                                    "avg_app_time": "268"
                                },
                                {
                                    "Device_Model": "iPhone 12",
                                    "total_user": "146",
                                    "avg_app_time": "282"
                                },
                                {
                                    "Device_Model": "Google Pixel 5",
                                    "total_user": "142",
                                    "avg_app_time": "267"
                                },
                                {
                                    "Device_Model": "Samsung Galaxy S21",
                                    "total_user": "133",
                                    "avg_app_time": "266"
                                },
                                {
                                    "Device_Model": "OnePlus 9",
                                    "total_user": "133",
                                    "avg_app_time": "270"
                                }
                            ]
                        },
                        "text/html": "<table><tr><th>Device_Model</th><th>total_user</th><th>avg_app_time</th></tr><tr><td>Xiaomi Mi 11</td><td>146</td><td>268</td></tr><tr><td>iPhone 12</td><td>146</td><td>282</td></tr><tr><td>Google Pixel 5</td><td>142</td><td>267</td></tr><tr><td>Samsung Galaxy S21</td><td>133</td><td>266</td></tr><tr><td>OnePlus 9</td><td>133</td><td>270</td></tr></table>"
                    },
                    "metadata": {}
                }
            ],
            "execution_count": 6
        },
        {
            "cell_type": "markdown",
            "source": [
                "# **2. Phân tích mức độ sử dụng**"
            ],
            "metadata": {
                "language": "sql",
                "azdata_cell_guid": "694b5c4f-2d66-4eb2-abef-310845146bc8",
                "id": "sBHfe4YcBPpO"
            }
        },
        {
            "cell_type": "markdown",
            "source": [
                "## **2.1  Tương quan giữa app usage, pin và data**"
            ],
            "metadata": {
                "language": "sql",
                "azdata_cell_guid": "bd580470-40f0-427c-bc7e-b43c2c0a8760",
                "id": "BlelgBh5BPpO"
            }
        },
        {
            "cell_type": "code",
            "source": [
                "SELECT\n",
                "    ROUND(AVG(App_Usage_Time_min_day),2) AS avg_app_time,\n",
                "    ROUND(AVG(Battery_Drain_mAh_day),2) AS avg_battery_drain,\n",
                "    ROUND(AVG(Data_Usage_MB_day),2) AS avg_data_usage\n",
                "FROM user_behavior_dataset"
            ],
            "metadata": {
                "language": "sql",
                "azdata_cell_guid": "6633f502-4083-426d-830b-e286be3fdce2",
                "id": "c9bc_7yWBPpP",
                "outputId": "4351c296-474d-42fb-ad40-18002e12b081"
            },
            "outputs": [
                {
                    "output_type": "display_data",
                    "data": {
                        "text/html": "(1 row affected)"
                    },
                    "metadata": {}
                },
                {
                    "output_type": "display_data",
                    "data": {
                        "text/html": "Total execution time: 00:00:00.018"
                    },
                    "metadata": {}
                },
                {
                    "output_type": "execute_result",
                    "execution_count": 7,
                    "data": {
                        "application/vnd.dataresource+json": {
                            "schema": {
                                "fields": [
                                    {
                                        "name": "avg_app_time"
                                    },
                                    {
                                        "name": "avg_battery_drain"
                                    },
                                    {
                                        "name": "avg_data_usage"
                                    }
                                ]
                            },
                            "data": [
                                {
                                    "avg_app_time": "271",
                                    "avg_battery_drain": "1525",
                                    "avg_data_usage": "929"
                                }
                            ]
                        },
                        "text/html": "<table><tr><th>avg_app_time</th><th>avg_battery_drain</th><th>avg_data_usage</th></tr><tr><td>271</td><td>1525</td><td>929</td></tr></table>"
                    },
                    "metadata": {}
                }
            ],
            "execution_count": 7
        },
        {
            "cell_type": "markdown",
            "source": [
                "## **2.2 So sánh theo từng nhóm hành vi**"
            ],
            "metadata": {
                "language": "sql",
                "azdata_cell_guid": "11da99d7-df94-44ea-b978-d69b0fa9f459",
                "id": "OkZKHsQzBPpP"
            }
        },
        {
            "cell_type": "code",
            "source": [
                "SELECT User_Behavior_Class,\n",
                "       ROUND(AVG(App_Usage_Time_min_day),2) AS avg_app_time,\n",
                "       ROUND(AVG(Battery_Drain_mAh_day),2) AS avg_battery_drain,\n",
                "       ROUND(AVG(Data_Usage_MB_day),2) AS avg_data_usage,\n",
                "       COUNT(*) AS total_user\n",
                "FROM user_behavior_dataset\n",
                "GROUP BY User_Behavior_Class\n",
                "ORDER BY User_Behavior_Class\n"
            ],
            "metadata": {
                "language": "sql",
                "azdata_cell_guid": "76d2e641-d935-4f1c-90b9-7f8ab453198a",
                "id": "sremSDnwBPpP",
                "outputId": "dc118445-3390-4999-ad63-449300545125"
            },
            "outputs": [
                {
                    "output_type": "display_data",
                    "data": {
                        "text/html": "(5 rows affected)"
                    },
                    "metadata": {}
                },
                {
                    "output_type": "display_data",
                    "data": {
                        "text/html": "Total execution time: 00:00:00.022"
                    },
                    "metadata": {}
                },
                {
                    "output_type": "execute_result",
                    "execution_count": 8,
                    "data": {
                        "application/vnd.dataresource+json": {
                            "schema": {
                                "fields": [
                                    {
                                        "name": "User_Behavior_Class"
                                    },
                                    {
                                        "name": "avg_app_time"
                                    },
                                    {
                                        "name": "avg_battery_drain"
                                    },
                                    {
                                        "name": "avg_data_usage"
                                    },
                                    {
                                        "name": "total_user"
                                    }
                                ]
                            },
                            "data": [
                                {
                                    "User_Behavior_Class": "1",
                                    "avg_app_time": "60",
                                    "avg_battery_drain": "454",
                                    "avg_data_usage": "202",
                                    "total_user": "136"
                                },
                                {
                                    "User_Behavior_Class": "2",
                                    "avg_app_time": "131",
                                    "avg_battery_drain": "883",
                                    "avg_data_usage": "451",
                                    "total_user": "146"
                                },
                                {
                                    "User_Behavior_Class": "3",
                                    "avg_app_time": "235",
                                    "avg_battery_drain": "1515",
                                    "avg_data_usage": "822",
                                    "total_user": "143"
                                },
                                {
                                    "User_Behavior_Class": "4",
                                    "avg_app_time": "395",
                                    "avg_battery_drain": "2105",
                                    "avg_data_usage": "1232",
                                    "total_user": "139"
                                },
                                {
                                    "User_Behavior_Class": "5",
                                    "avg_app_time": "541",
                                    "avg_battery_drain": "2701",
                                    "avg_data_usage": "1974",
                                    "total_user": "136"
                                }
                            ]
                        },
                        "text/html": "<table><tr><th>User_Behavior_Class</th><th>avg_app_time</th><th>avg_battery_drain</th><th>avg_data_usage</th><th>total_user</th></tr><tr><td>1</td><td>60</td><td>454</td><td>202</td><td>136</td></tr><tr><td>2</td><td>131</td><td>883</td><td>451</td><td>146</td></tr><tr><td>3</td><td>235</td><td>1515</td><td>822</td><td>143</td></tr><tr><td>4</td><td>395</td><td>2105</td><td>1232</td><td>139</td></tr><tr><td>5</td><td>541</td><td>2701</td><td>1974</td><td>136</td></tr></table>"
                    },
                    "metadata": {}
                }
            ],
            "execution_count": 8
        },
        {
            "cell_type": "markdown",
            "source": [
                "\\-\\> nhóm 5 là nhóm sử dụng app nhiều nhất"
            ],
            "metadata": {
                "language": "sql",
                "azdata_cell_guid": "5e6400cb-ed04-41ed-8565-17c8356a623f",
                "id": "dcg9DEqFBPpP"
            }
        },
        {
            "cell_type": "markdown",
            "source": [
                "# **3. Phân tích nhân khẩu học**"
            ],
            "metadata": {
                "language": "sql",
                "azdata_cell_guid": "d455e651-90b0-4962-b7e5-0d32473d263e",
                "id": "X6bVKg0DBPpP"
            }
        },
        {
            "cell_type": "markdown",
            "source": [
                "## **3.1  Ảnh hưởng của giới tính đến hành vi**"
            ],
            "metadata": {
                "language": "sql",
                "azdata_cell_guid": "9fc4a637-d24a-4eb4-b636-b80bd51a210c",
                "id": "COB48qtYBPpP"
            }
        },
        {
            "cell_type": "code",
            "source": [
                "SELECT Gender,\n",
                "       ROUND(AVG(App_Usage_Time_min_day),2) AS avg_app_time,\n",
                "       ROUND(AVG(Number_of_Apps_Installed),2) AS avg_app,\n",
                "       ROUND(AVG(Data_Usage_MB_day),2) AS avg_data_usage\n",
                "FROM user_behavior_dataset\n",
                "GROUP BY Gender"
            ],
            "metadata": {
                "language": "sql",
                "azdata_cell_guid": "03b67e04-6d26-4e23-ab59-d6b1fdf6abcb",
                "id": "e-mX13D6BPpP",
                "outputId": "ddd8230a-8a69-419a-8cc0-8fcf819a6ff2"
            },
            "outputs": [
                {
                    "output_type": "display_data",
                    "data": {
                        "text/html": "(2 rows affected)"
                    },
                    "metadata": {}
                },
                {
                    "output_type": "display_data",
                    "data": {
                        "text/html": "Total execution time: 00:00:00.017"
                    },
                    "metadata": {}
                },
                {
                    "output_type": "execute_result",
                    "execution_count": 9,
                    "data": {
                        "application/vnd.dataresource+json": {
                            "schema": {
                                "fields": [
                                    {
                                        "name": "Gender"
                                    },
                                    {
                                        "name": "avg_app_time"
                                    },
                                    {
                                        "name": "avg_app"
                                    },
                                    {
                                        "name": "avg_data_usage"
                                    }
                                ]
                            },
                            "data": [
                                {
                                    "Gender": "Female",
                                    "avg_app_time": "271",
                                    "avg_app": "50",
                                    "avg_data_usage": "914"
                                },
                                {
                                    "Gender": "Male",
                                    "avg_app_time": "270",
                                    "avg_app": "51",
                                    "avg_data_usage": "943"
                                }
                            ]
                        },
                        "text/html": "<table><tr><th>Gender</th><th>avg_app_time</th><th>avg_app</th><th>avg_data_usage</th></tr><tr><td>Female</td><td>271</td><td>50</td><td>914</td></tr><tr><td>Male</td><td>270</td><td>51</td><td>943</td></tr></table>"
                    },
                    "metadata": {}
                }
            ],
            "execution_count": 9
        },
        {
            "cell_type": "markdown",
            "source": [
                "\\-\\> nam, nữ đều sử dụng app và có số lượng app tương đương nhau"
            ],
            "metadata": {
                "language": "sql",
                "azdata_cell_guid": "c8be5e1b-15a1-49b8-8ecd-e1de2115d73c",
                "id": "7T_BCrDmBPpP"
            }
        },
        {
            "cell_type": "markdown",
            "source": [
                "## **3.2 Ảnh hưởng của độ tuổi**"
            ],
            "metadata": {
                "language": "sql",
                "azdata_cell_guid": "80137936-848f-4b9a-a289-818f941dfd9e",
                "id": "XCoqGMLsBPpQ"
            }
        },
        {
            "cell_type": "code",
            "source": [
                "SELECT\n",
                "    CASE\n",
                "        WHEN Age < 25 THEN 'Dưới 25'\n",
                "        WHEN Age BETWEEN 25 AND 40 THEN '25-40'\n",
                "        ELSE 'Trên 40'\n",
                "    END AS age_group,\n",
                "    ROUND(AVG(App_Usage_Time_min_day),2) AS avg_app_time,\n",
                "    ROUND(AVG(Data_Usage_MB_day),2) AS avg_data_usage,\n",
                "    ROUND(AVG(Battery_Drain_mAh_day),2) AS avg_battery_drain\n",
                "FROM user_behavior_dataset\n",
                "GROUP BY\n",
                "    CASE\n",
                "        WHEN Age < 25 THEN 'Dưới 25'\n",
                "        WHEN Age BETWEEN 25 AND 40 THEN '25-40'\n",
                "        ELSE 'Trên 40'\n",
                "    END\n",
                "ORDER BY avg_app_time,avg_data_usage,avg_battery_drain\n"
            ],
            "metadata": {
                "language": "sql",
                "azdata_cell_guid": "0af40342-7d10-45ad-8b95-410d25383e38",
                "id": "-GiEVPykBPpQ",
                "outputId": "944d2511-bd0e-4f91-a086-e61c0738d895"
            },
            "outputs": [
                {
                    "output_type": "display_data",
                    "data": {
                        "text/html": "(3 rows affected)"
                    },
                    "metadata": {}
                },
                {
                    "output_type": "display_data",
                    "data": {
                        "text/html": "Total execution time: 00:00:00.024"
                    },
                    "metadata": {}
                },
                {
                    "output_type": "execute_result",
                    "execution_count": 10,
                    "data": {
                        "application/vnd.dataresource+json": {
                            "schema": {
                                "fields": [
                                    {
                                        "name": "age_group"
                                    },
                                    {
                                        "name": "avg_app_time"
                                    },
                                    {
                                        "name": "avg_data_usage"
                                    },
                                    {
                                        "name": "avg_battery_drain"
                                    }
                                ]
                            },
                            "data": [
                                {
                                    "age_group": "25-40",
                                    "avg_app_time": "259",
                                    "avg_data_usage": "897",
                                    "avg_battery_drain": "1465"
                                },
                                {
                                    "age_group": "Trên 40",
                                    "avg_app_time": "271",
                                    "avg_data_usage": "929",
                                    "avg_battery_drain": "1527"
                                },
                                {
                                    "age_group": "Du?i 25",
                                    "avg_app_time": "297",
                                    "avg_data_usage": "1012",
                                    "avg_battery_drain": "1668"
                                }
                            ]
                        },
                        "text/html": "<table><tr><th>age_group</th><th>avg_app_time</th><th>avg_data_usage</th><th>avg_battery_drain</th></tr><tr><td>25-40</td><td>259</td><td>897</td><td>1465</td></tr><tr><td>Trên 40</td><td>271</td><td>929</td><td>1527</td></tr><tr><td>Du?i 25</td><td>297</td><td>1012</td><td>1668</td></tr></table>"
                    },
                    "metadata": {}
                }
            ],
            "execution_count": 10
        },
        {
            "cell_type": "markdown",
            "source": [
                "\\-\\> nhóm dưới 25 tuổi sử dụng app nhiều nhất, tiêu thụ data và pin nhiều nhất"
            ],
            "metadata": {
                "language": "sql",
                "azdata_cell_guid": "73e7abfd-8574-41a6-b6af-aaa5c80bee5d",
                "id": "BwEVFuWHBPpQ"
            }
        },
        {
            "cell_type": "markdown",
            "source": [
                "# **4. Phân khúc người dùng**"
            ],
            "metadata": {
                "language": "sql",
                "azdata_cell_guid": "97a881bd-f952-46cc-8e10-3e80adaf8b80",
                "id": "6Urg53d2BPpQ"
            }
        },
        {
            "cell_type": "markdown",
            "source": [
                "Chia nhóm theo mức sử dụng"
            ],
            "metadata": {
                "language": "sql",
                "azdata_cell_guid": "91291acf-6369-4b86-b309-b5b0c581b01a",
                "id": "VLM1veqnBPpQ"
            }
        },
        {
            "cell_type": "code",
            "source": [
                "SELECT\n",
                "    CASE\n",
                "        WHEN App_Usage_Time_min_day > 300 THEN 'Heavy User'\n",
                "        WHEN App_Usage_Time_min_day BETWEEN 150 AND 300 THEN 'Moderate User'\n",
                "        ELSE 'Light User'\n",
                "    END AS usage_roup,\n",
                "    COUNT(*) AS total_user,\n",
                "    ROUND(AVG(Battery_Drain_mAh_day),2) AS avg_battery_drain,\n",
                "    ROUND(AVG(Data_Usage_MB_day),2) AS avg_data_usage,\n",
                "    ROUND(AVG(Number_of_Apps_Installed),2) AS avg_app\n",
                "FROM user_behavior_dataset\n",
                "GROUP BY\n",
                "    CASE\n",
                "        WHEN App_Usage_Time_min_day > 300 THEN 'Heavy User'\n",
                "        WHEN App_Usage_Time_min_day BETWEEN 150 AND 300 THEN 'Moderate User'\n",
                "        ELSE 'Light User'\n",
                "    END\n",
                "ORDER BY total_user DESC"
            ],
            "metadata": {
                "language": "sql",
                "azdata_cell_guid": "8b73f136-7988-4ba2-a700-b91ea6d32f36",
                "id": "bL_RdUcnBPpQ",
                "outputId": "00448afc-3132-4da4-99ac-08bc21fd36bf"
            },
            "outputs": [
                {
                    "output_type": "display_data",
                    "data": {
                        "text/html": "(3 rows affected)"
                    },
                    "metadata": {}
                },
                {
                    "output_type": "display_data",
                    "data": {
                        "text/html": "Total execution time: 00:00:00.019"
                    },
                    "metadata": {}
                },
                {
                    "output_type": "execute_result",
                    "execution_count": 11,
                    "data": {
                        "application/vnd.dataresource+json": {
                            "schema": {
                                "fields": [
                                    {
                                        "name": "usage_roup"
                                    },
                                    {
                                        "name": "total_user"
                                    },
                                    {
                                        "name": "avg_battery_drain"
                                    },
                                    {
                                        "name": "avg_data_usage"
                                    },
                                    {
                                        "name": "avg_app"
                                    }
                                ]
                            },
                            "data": [
                                {
                                    "usage_roup": "Heavy User",
                                    "total_user": "275",
                                    "avg_battery_drain": "2400",
                                    "avg_data_usage": "1599",
                                    "avg_app": "79"
                                },
                                {
                                    "usage_roup": "Light User",
                                    "total_user": "239",
                                    "avg_battery_drain": "636",
                                    "avg_data_usage": "310",
                                    "avg_app": "21"
                                },
                                {
                                    "usage_roup": "Moderate User",
                                    "total_user": "186",
                                    "avg_battery_drain": "1373",
                                    "avg_data_usage": "735",
                                    "avg_app": "45"
                                }
                            ]
                        },
                        "text/html": "<table><tr><th>usage_roup</th><th>total_user</th><th>avg_battery_drain</th><th>avg_data_usage</th><th>avg_app</th></tr><tr><td>Heavy User</td><td>275</td><td>2400</td><td>1599</td><td>79</td></tr><tr><td>Light User</td><td>239</td><td>636</td><td>310</td><td>21</td></tr><tr><td>Moderate User</td><td>186</td><td>1373</td><td>735</td><td>45</td></tr></table>"
                    },
                    "metadata": {}
                }
            ],
            "execution_count": 11
        },
        {
            "cell_type": "markdown",
            "source": [
                "# **5. So sánh theo hệ điều hành**"
            ],
            "metadata": {
                "language": "sql",
                "azdata_cell_guid": "6ffeb483-dd50-4278-99ed-d6e92ebaadbb",
                "id": "4hQdefMkBPpR"
            }
        },
        {
            "cell_type": "code",
            "source": [
                "SELECT Operating_System,\n",
                "       ROUND(AVG(App_Usage_Time_min_day),2) AS avg_app_time,\n",
                "       ROUND(AVG(Battery_Drain_mAh_day),2) AS avg_battery_drain,\n",
                "       ROUND(AVG(Data_Usage_MB_day),2) AS avg_data_usage,\n",
                "       ROUND(AVG(Number_of_Apps_Installed),2) AS avg_app\n",
                "FROM user_behavior_dataset\n",
                "GROUP BY Operating_System"
            ],
            "metadata": {
                "language": "sql",
                "azdata_cell_guid": "ee96e1cb-88a3-4d4c-a6ff-e9284fcc7479",
                "id": "vh12tx1ZBPpR",
                "outputId": "0596fdca-4e4c-46b1-80e7-5b038b7106eb"
            },
            "outputs": [
                {
                    "output_type": "display_data",
                    "data": {
                        "text/html": "(2 rows affected)"
                    },
                    "metadata": {}
                },
                {
                    "output_type": "display_data",
                    "data": {
                        "text/html": "Total execution time: 00:00:00.020"
                    },
                    "metadata": {}
                },
                {
                    "output_type": "execute_result",
                    "execution_count": 12,
                    "data": {
                        "application/vnd.dataresource+json": {
                            "schema": {
                                "fields": [
                                    {
                                        "name": "Operating_System"
                                    },
                                    {
                                        "name": "avg_app_time"
                                    },
                                    {
                                        "name": "avg_battery_drain"
                                    },
                                    {
                                        "name": "avg_data_usage"
                                    },
                                    {
                                        "name": "avg_app"
                                    }
                                ]
                            },
                            "data": [
                                {
                                    "Operating_System": "Android",
                                    "avg_app_time": "268",
                                    "avg_battery_drain": "1508",
                                    "avg_data_usage": "920",
                                    "avg_app": "50"
                                },
                                {
                                    "Operating_System": "iOS",
                                    "avg_app_time": "282",
                                    "avg_battery_drain": "1589",
                                    "avg_data_usage": "965",
                                    "avg_app": "52"
                                }
                            ]
                        },
                        "text/html": "<table><tr><th>Operating_System</th><th>avg_app_time</th><th>avg_battery_drain</th><th>avg_data_usage</th><th>avg_app</th></tr><tr><td>Android</td><td>268</td><td>1508</td><td>920</td><td>50</td></tr><tr><td>iOS</td><td>282</td><td>1589</td><td>965</td><td>52</td></tr></table>"
                    },
                    "metadata": {}
                }
            ],
            "execution_count": 12
        },
        {
            "cell_type": "markdown",
            "source": [
                "\\-\\> người dùng iOS có mức sử dụng cao hơn Android"
            ],
            "metadata": {
                "language": "sql",
                "azdata_cell_guid": "28896e98-89ac-462a-816b-cddcb30f243e",
                "id": "lct6Mn4eBPpR"
            }
        },
        {
            "cell_type": "markdown",
            "source": [
                "# **6. Tổng kết hành vi theo lớp**"
            ],
            "metadata": {
                "language": "sql",
                "azdata_cell_guid": "f4446ea0-fc02-40e6-a93d-0156dc249ec9",
                "id": "CKeMG5Y2BPpR"
            }
        },
        {
            "cell_type": "code",
            "source": [
                "SELECT User_Behavior_Class,\n",
                "       ROUND(AVG(Age),2) AS avg_age,\n",
                "       ROUND(AVG(App_Usage_Time_min_day),2) AS avg_app_time,\n",
                "       ROUND(AVG(Screen_On_Time_hours_day),2) AS avg_screen_time,\n",
                "       ROUND(AVG(Battery_Drain_mAh_day),2) AS avg_battery_drain,\n",
                "       ROUND(AVG(Data_Usage_MB_day),2) AS avg_data_usage,\n",
                "       ROUND(AVG(Number_of_Apps_Installed),2) AS avg_app\n",
                "FROM user_behavior_dataset\n",
                "GROUP BY User_Behavior_Class\n",
                "ORDER BY User_Behavior_Class"
            ],
            "metadata": {
                "language": "sql",
                "azdata_cell_guid": "be284bb6-9bcb-4e51-b271-421c1ec77776",
                "id": "oaYx-aJJBPpR",
                "outputId": "4a318e52-1eb5-480a-db7e-5ca97446cd58"
            },
            "outputs": [
                {
                    "output_type": "display_data",
                    "data": {
                        "text/html": "(5 rows affected)"
                    },
                    "metadata": {}
                },
                {
                    "output_type": "display_data",
                    "data": {
                        "text/html": "Total execution time: 00:00:00.019"
                    },
                    "metadata": {}
                },
                {
                    "output_type": "execute_result",
                    "execution_count": 13,
                    "data": {
                        "application/vnd.dataresource+json": {
                            "schema": {
                                "fields": [
                                    {
                                        "name": "User_Behavior_Class"
                                    },
                                    {
                                        "name": "avg_age"
                                    },
                                    {
                                        "name": "avg_app_time"
                                    },
                                    {
                                        "name": "avg_screen_time"
                                    },
                                    {
                                        "name": "avg_battery_drain"
                                    },
                                    {
                                        "name": "avg_data_usage"
                                    },
                                    {
                                        "name": "avg_app"
                                    }
                                ]
                            },
                            "data": [
                                {
                                    "User_Behavior_Class": "1",
                                    "avg_age": "38",
                                    "avg_app_time": "60",
                                    "avg_screen_time": "1.49",
                                    "avg_battery_drain": "454",
                                    "avg_data_usage": "202",
                                    "avg_app": "14"
                                },
                                {
                                    "User_Behavior_Class": "2",
                                    "avg_age": "38",
                                    "avg_app_time": "131",
                                    "avg_screen_time": "3.04",
                                    "avg_battery_drain": "883",
                                    "avg_data_usage": "451",
                                    "avg_app": "30"
                                },
                                {
                                    "User_Behavior_Class": "3",
                                    "avg_age": "38",
                                    "avg_app_time": "235",
                                    "avg_screen_time": "4.96",
                                    "avg_battery_drain": "1515",
                                    "avg_data_usage": "822",
                                    "avg_app": "50"
                                },
                                {
                                    "User_Behavior_Class": "4",
                                    "avg_age": "38",
                                    "avg_app_time": "395",
                                    "avg_screen_time": "6.91",
                                    "avg_battery_drain": "2105",
                                    "avg_data_usage": "1232",
                                    "avg_app": "69"
                                },
                                {
                                    "User_Behavior_Class": "5",
                                    "avg_age": "38",
                                    "avg_app_time": "541",
                                    "avg_screen_time": "10.11",
                                    "avg_battery_drain": "2701",
                                    "avg_data_usage": "1974",
                                    "avg_app": "89"
                                }
                            ]
                        },
                        "text/html": "<table><tr><th>User_Behavior_Class</th><th>avg_age</th><th>avg_app_time</th><th>avg_screen_time</th><th>avg_battery_drain</th><th>avg_data_usage</th><th>avg_app</th></tr><tr><td>1</td><td>38</td><td>60</td><td>1.49</td><td>454</td><td>202</td><td>14</td></tr><tr><td>2</td><td>38</td><td>131</td><td>3.04</td><td>883</td><td>451</td><td>30</td></tr><tr><td>3</td><td>38</td><td>235</td><td>4.96</td><td>1515</td><td>822</td><td>50</td></tr><tr><td>4</td><td>38</td><td>395</td><td>6.91</td><td>2105</td><td>1232</td><td>69</td></tr><tr><td>5</td><td>38</td><td>541</td><td>10.11</td><td>2701</td><td>1974</td><td>89</td></tr></table>"
                    },
                    "metadata": {}
                }
            ],
            "execution_count": 13
        }
    ]
}